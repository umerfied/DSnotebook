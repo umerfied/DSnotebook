{
 "cells": [
  {
   "cell_type": "markdown",
   "id": "6880518e-44d5-497f-bb32-8b301bd56a14",
   "metadata": {},
   "source": [
    "# Data Science Tools and Ecosystem"
   ]
  },
  {
   "cell_type": "markdown",
   "id": "56a8d257-cd50-4e59-a0bb-e6c11f3d9d51",
   "metadata": {},
   "source": [
    "`Objectives:`\n",
    "- Commonly used libraries\n",
    "- Open Source Tools\n",
    "- Some arithmetic expression\n",
    "- some ordering of markcode\n",
    "- converting minutes into hours"
   ]
  },
  {
   "cell_type": "markdown",
   "id": "4211e602-8a3b-4869-892f-3f8066b035ad",
   "metadata": {},
   "source": [
    "In this notebook, Data Science Tools and Ecosystem are summarized\n"
   ]
  },
  {
   "attachments": {},
   "cell_type": "markdown",
   "id": "ae93ec63-24ea-4ba2-a51f-7cd48db181b7",
   "metadata": {},
   "source": [
    "Some of the commonly used libraries used by Data Scientists include:\n",
    "1. Sci-kit learn\n",
    "2. Pandas\n",
    "3. ggplot"
   ]
  },
  {
   "cell_type": "markdown",
   "id": "203e9d4f-6cdb-46f8-a47c-0556d16dece1",
   "metadata": {},
   "source": [
    "Some of the popular languages that Data Scientists use are:\n",
    "1. Python\n",
    "2. R\n",
    "3. SQL\n",
    "   "
   ]
  },
  {
   "cell_type": "markdown",
   "id": "77d87ad1-e422-402c-824b-3f04b3d670a8",
   "metadata": {},
   "source": [
    "|Data Science Tools|\n",
    "|:----------------:|\n",
    "|TensorFlow        |\n",
    "|PyTorch           |\n",
    "|RStudio           |"
   ]
  },
  {
   "cell_type": "markdown",
   "id": "f5aeb310-e768-4beb-8735-2dadbb817bb4",
   "metadata": {},
   "source": [
    "### Below are a few examples of evaluating arithmetic expressions in Python"
   ]
  },
  {
   "cell_type": "code",
   "execution_count": 1,
   "id": "e82e6d60-4a17-475e-9762-163ae42809e4",
   "metadata": {},
   "outputs": [
    {
     "data": {
      "text/plain": [
       "17"
      ]
     },
     "execution_count": 1,
     "metadata": {},
     "output_type": "execute_result"
    }
   ],
   "source": [
    "#This a simple arithmetic expression to mutiply then add integers\n",
    "(3*4)+5"
   ]
  },
  {
   "cell_type": "code",
   "execution_count": 4,
   "id": "ee1b2953-b65f-41bd-ba37-02c0fd554691",
   "metadata": {},
   "outputs": [
    {
     "name": "stdout",
     "output_type": "stream",
     "text": [
      "3.3333333333333335 Hours\n"
     ]
    }
   ],
   "source": [
    "#This will convert 200 minutes to hours by diving by 60\n",
    "print(200/60,\"Hours\")"
   ]
  },
  {
   "cell_type": "markdown",
   "id": "6fa61675-d230-46b7-8069-9b5f017f8d1b",
   "metadata": {},
   "source": [
    "## Author:\n",
    "## Muhammad Umer Sameer"
   ]
  },
  {
   "cell_type": "code",
   "execution_count": null,
   "id": "17c5dcb5-b473-4851-9716-e7de7472c75d",
   "metadata": {},
   "outputs": [],
   "source": []
  }
 ],
 "metadata": {
  "kernelspec": {
   "display_name": "Python 3 (ipykernel)",
   "language": "python",
   "name": "python3"
  },
  "language_info": {
   "codemirror_mode": {
    "name": "ipython",
    "version": 3
   },
   "file_extension": ".py",
   "mimetype": "text/x-python",
   "name": "python",
   "nbconvert_exporter": "python",
   "pygments_lexer": "ipython3",
   "version": "3.12.0"
  },
  "toc": {
   "base_numbering": 0
  }
 },
 "nbformat": 4,
 "nbformat_minor": 5
}
